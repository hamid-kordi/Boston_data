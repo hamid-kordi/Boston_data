{
 "cells": [
  {
   "cell_type": "code",
   "execution_count": 2,
   "metadata": {},
   "outputs": [],
   "source": [
    "#in the name of allah\n",
    "import pandas as pn\n",
    "import numpy as np\n",
    "\n",
    "culumn_data=['CRIM', 'ZN', 'INDUS', 'CHAS', 'NOX', 'RM', 'AGE', 'DIS', 'RAD', 'TAX', 'PTRATIO', 'B', 'LSTAT', 'MEDV']"
   ]
  },
  {
   "cell_type": "code",
   "execution_count": 3,
   "metadata": {},
   "outputs": [],
   "source": [
    "data=pn.read_csv(\"./Boston.csv\",names=culumn_data)"
   ]
  },
  {
   "cell_type": "code",
   "execution_count": 4,
   "metadata": {},
   "outputs": [
    {
     "data": {
      "text/plain": [
       "(507, 14)"
      ]
     },
     "execution_count": 4,
     "metadata": {},
     "output_type": "execute_result"
    }
   ],
   "source": [
    "data.shape"
   ]
  },
  {
   "cell_type": "code",
   "execution_count": 5,
   "metadata": {},
   "outputs": [
    {
     "name": "stdout",
     "output_type": "stream",
     "text": [
      "          CRIM  ZN  INDUS  CHAS    NOX     RM   AGE     DIS  RAD  TAX  \\\n",
      "NaN       crim  zn  indus  chas    nox     rm   age     dis  rad  tax   \n",
      "1.0    0.00632  18   2.31     0  0.538  6.575  65.2    4.09    1  296   \n",
      "2.0    0.02731   0   7.07     0  0.469  6.421  78.9  4.9671    2  242   \n",
      "3.0    0.02729   0   7.07     0  0.469  7.185  61.1  4.9671    2  242   \n",
      "4.0    0.03237   0   2.18     0  0.458  6.998  45.8  6.0622    3  222   \n",
      "...        ...  ..    ...   ...    ...    ...   ...     ...  ...  ...   \n",
      "502.0  0.06263   0  11.93     0  0.573  6.593  69.1  2.4786    1  273   \n",
      "503.0  0.04527   0  11.93     0  0.573   6.12  76.7  2.2875    1  273   \n",
      "504.0  0.06076   0  11.93     0  0.573  6.976    91  2.1675    1  273   \n",
      "505.0  0.10959   0  11.93     0  0.573  6.794  89.3  2.3889    1  273   \n",
      "506.0  0.04741   0  11.93     0  0.573   6.03  80.8   2.505    1  273   \n",
      "\n",
      "       PTRATIO       B  LSTAT  MEDV  \n",
      "NaN    ptratio   black  lstat  medv  \n",
      "1.0       15.3   396.9   4.98    24  \n",
      "2.0       17.8   396.9   9.14  21.6  \n",
      "3.0       17.8  392.83   4.03  34.7  \n",
      "4.0       18.7  394.63   2.94  33.4  \n",
      "...        ...     ...    ...   ...  \n",
      "502.0       21  391.99   9.67  22.4  \n",
      "503.0       21   396.9   9.08  20.6  \n",
      "504.0       21   396.9   5.64  23.9  \n",
      "505.0       21  393.45   6.48    22  \n",
      "506.0       21   396.9   7.88  11.9  \n",
      "\n",
      "[507 rows x 14 columns]\n"
     ]
    }
   ],
   "source": [
    "print(data)"
   ]
  },
  {
   "cell_type": "code",
   "execution_count": null,
   "metadata": {},
   "outputs": [],
   "source": []
  }
 ],
 "metadata": {
  "kernelspec": {
   "display_name": "Python 3",
   "language": "python",
   "name": "python3"
  },
  "language_info": {
   "codemirror_mode": {
    "name": "ipython",
    "version": 3
   },
   "file_extension": ".py",
   "mimetype": "text/x-python",
   "name": "python",
   "nbconvert_exporter": "python",
   "pygments_lexer": "ipython3",
   "version": "3.10.2"
  },
  "orig_nbformat": 4,
  "vscode": {
   "interpreter": {
    "hash": "369f2c481f4da34e4445cda3fffd2e751bd1c4d706f27375911949ba6bb62e1c"
   }
  }
 },
 "nbformat": 4,
 "nbformat_minor": 2
}
